{
 "cells": [
  {
   "cell_type": "code",
   "execution_count": 2,
   "metadata": {},
   "outputs": [],
   "source": [
    "# 1. Подберите скорость обучения (alpha) и количество итераций для градиентного спуска.\n",
    "# 2 (опция). В этом коде мы избавляемся от итераций по весам, но тут есть ошибка, исправьте ее:\n",
    "\n",
    "# for i in range(1000):\n",
    "#     y_pred = np.dot(W, X)\n",
    "#     err = calc_mse(y, y_pred)\n",
    "#     '''for ii in range(W.shape[0]):\n",
    "#     W[ii] -= alpha * (1/n * 2 * np.sum(X[ii] * (y_pred - y)))'''\n",
    "#     W -= (alpha * (1/n * 2 * np.sum(X * (y_pred - y))))\n",
    "#     if i % 100 == 0:\n",
    "#         print(i, W, err)"
   ]
  },
  {
   "cell_type": "code",
   "execution_count": 38,
   "metadata": {},
   "outputs": [],
   "source": [
    "import numpy as np"
   ]
  },
  {
   "cell_type": "code",
   "execution_count": 39,
   "metadata": {},
   "outputs": [],
   "source": [
    "def calc_mse(y_pred, y):\n",
    "    return np.mean((y - y_pred) ** 2)"
   ]
  },
  {
   "cell_type": "code",
   "execution_count": 74,
   "metadata": {},
   "outputs": [],
   "source": [
    "def best_iter_and_learning_rate(alfa: np.array, iter_limit: int, observations: int, target: np.array, dataset: np.array):\n",
    "    result = []\n",
    "    for speed in alfa:\n",
    "        diff = np.inf\n",
    "        w = np.array([1, 0.5])\n",
    "        print(f'Learning rate: {speed}')\n",
    "        target_diff = speed\n",
    "        i = 0\n",
    "        while target_diff < diff:\n",
    "            predictions = np.dot(w, dataset)\n",
    "            err = calc_mse(target, predictions)\n",
    "            w -= speed * (1 / observations * 2 * np.dot((predictions - target), dataset.T))\n",
    "            new_err = calc_mse(target, np.dot(w, dataset))\n",
    "            diff = err - new_err\n",
    "            i += 1\n",
    "            if iter_limit <= i:\n",
    "                print(i, w, err)\n",
    "                break\n",
    "        print(i, w, err)\n",
    "        result.append([int(i), [float(w[0]), float(w[1])], float(err), f'learning rate: {float(speed)}'])\n",
    "    return min(result, key=lambda i : i[2])"
   ]
  },
  {
   "cell_type": "code",
   "execution_count": 75,
   "metadata": {},
   "outputs": [],
   "source": [
    "y = [45, 55, 50, 59, 65, 35, 75, 80, 50, 60]\n",
    "x = np.array([[1, 1, 1, 1, 1, 1, 1, 1,  1, 1],\n",
    "              [1, 1, 2, 1, 3, 0, 5, 10, 1, 2]])\n",
    "n = x.shape[1]\n",
    "alfa = np.array([10 ** i for i in range(-1, -7, -1)])\n",
    "iter_limit = 10 ** 6"
   ]
  },
  {
   "cell_type": "code",
   "execution_count": 76,
   "metadata": {},
   "outputs": [
    {
     "name": "stdout",
     "output_type": "stream",
     "text": [
      "Learning rate: 0.1\n",
      "1 [12.02 34.5 ] 3173.15\n",
      "Learning rate: 0.01\n",
      "369 [46.30016541  4.08281105] 46.41432930917673\n",
      "Learning rate: 0.001\n",
      "3695 [46.28807565  4.08504352] 46.41765657340452\n",
      "Learning rate: 0.0001\n",
      "36951 [46.28647404  4.08533927] 46.418385736263225\n",
      "Learning rate: 1e-05\n",
      "369520 [46.28640235  4.0853525 ] 46.41836863769042\n",
      "Learning rate: 1e-06\n",
      "1000000 [31.64185679  6.78957987] 176.60949264492578\n",
      "1000000 [31.64185679  6.78957987] 176.60949264492578\n",
      "\n",
      "Best parameters:\n",
      "mse: 46.41432930917673\n",
      "iterations: 369\n",
      "learning rate: 0.01\n"
     ]
    }
   ],
   "source": [
    "ans = best_iter_and_learning_rate(alfa, iter_limit, x.shape[1], y, x)\n",
    "print(f'\\nBest parameters:\\nmse: {ans[2]}\\niterations: {ans[0]}\\n{ans[-1]}')"
   ]
  },
  {
   "cell_type": "code",
   "execution_count": null,
   "metadata": {},
   "outputs": [],
   "source": [
    "# Learning rate: 0.1\n",
    "# 1 [12.02 34.5 ] 3173.15\n",
    "# Learning rate: 0.01\n",
    "# 369 [46.30016541  4.08281105] 46.41432930917673\n",
    "# Learning rate: 0.001\n",
    "# 3695 [46.28807565  4.08504352] 46.41765657340452\n",
    "# Learning rate: 0.0001\n",
    "# 36951 [46.28647404  4.08533927] 46.418385736263225\n",
    "# Learning rate: 1e-05\n",
    "# 369520 [46.28640235  4.0853525 ] 46.41836863769042\n",
    "# Learning rate: 1e-06\n",
    "# 1000000 [31.64185679  6.78957987] 176.60949264492578\n",
    "# 1000000 [31.64185679  6.78957987] 176.60949264492578\n",
    "\n",
    "# Best parameters:\n",
    "# mse: 46.41432930917673\n",
    "# iterations: 369\n",
    "# learning rate: 0.01"
   ]
  }
 ],
 "metadata": {
  "kernelspec": {
   "display_name": "Python 3",
   "language": "python",
   "name": "python3"
  },
  "language_info": {
   "codemirror_mode": {
    "name": "ipython",
    "version": 3
   },
   "file_extension": ".py",
   "mimetype": "text/x-python",
   "name": "python",
   "nbconvert_exporter": "python",
   "pygments_lexer": "ipython3",
   "version": "3.8.5"
  }
 },
 "nbformat": 4,
 "nbformat_minor": 4
}
