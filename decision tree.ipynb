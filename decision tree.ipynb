{
 "cells": [
  {
   "cell_type": "markdown",
   "metadata": {},
   "source": [
    "1. В коде из методички реализуйте один или несколько из критериев останова (количество листьев, количество используемых признаков, глубина дерева и т.д.).\n",
    "2. Для задачи классификации обучить дерево решений с использованием критериев разбиения Джини и Энтропия. Сравнить качество классификации, сделать выводы.\n",
    "3. [опция]. Реализуйте дерево для задачи регрессии. Возьмите за основу дерево, реализованное в методичке,\n",
    "    заменив механизм предсказания в листе на взятие среднего значения по выборке, и критерий Джини на дисперсию значений."
   ]
  },
  {
   "cell_type": "code",
   "execution_count": 1,
   "metadata": {},
   "outputs": [],
   "source": [
    "import matplotlib.pyplot as plt\n",
    "import random\n",
    "\n",
    "from matplotlib.colors import ListedColormap\n",
    "from sklearn import datasets\n",
    "from sklearn.model_selection import train_test_split\n",
    "\n",
    "import numpy as np"
   ]
  },
  {
   "cell_type": "code",
   "execution_count": 13,
   "metadata": {},
   "outputs": [],
   "source": [
    "class Node:\n",
    "\n",
    "    def __init__(self, index, border, true_branch, false_branch):\n",
    "        self.index = index  \n",
    "        self.border = border\n",
    "        self.true_branch = true_branch\n",
    "        self.false_branch = false_branch\n",
    "\n",
    "\n",
    "class Leaf:\n",
    "\n",
    "    def __init__(self, data, labels):\n",
    "        self.data = np.array(data)\n",
    "        self.labels = np.array(labels)\n",
    "        self.prediction = self.predict()\n",
    "        \n",
    "    def predict(self):\n",
    "        classes, labels_cnt = np.unique(self.labels, return_counts=True)\n",
    "        prediction = classes[labels_cnt == labels_cnt.max()][0]\n",
    "        return prediction\n",
    "    \n",
    "class MyTree:\n",
    "    \n",
    "    def __init__(self,\n",
    "                 max_depth: int=None,\n",
    "                 min_leaves: int=1,\n",
    "                 max_leaves: int=None,\n",
    "                 gini: bool=True,\n",
    "                 entropy: bool=False\n",
    "                 ):\n",
    "        self.max_depth = max_depth # N nodes on tree\n",
    "        self.min_leaves = max_leaves # at least N leaves on tree\n",
    "        self.max_leaves = max_leaves\n",
    "        self.gini = gini\n",
    "        self.entropy = entropy\n",
    "        self.n_leaves = 0\n",
    "        \n",
    "    def make_split(self, data, labels, index, t):\n",
    "        left = np.where(data[:, index] <= t)\n",
    "        right = np.where(data[:, index] > t)\n",
    "        \n",
    "        true_data = data[left]\n",
    "        false_data = data[right]\n",
    "        true_labels = labels[left]\n",
    "        false_labels = labels[right]\n",
    "        return true_data, false_data, true_labels, false_labels\n",
    "    \n",
    "    def get_quality(self, left_labels, right_labels, base_crit):\n",
    "        p = float(left_labels.shape[0]) / (left_labels.shape[0] + right_labels.shape[0])\n",
    "        if self.gini:\n",
    "            _criterion = self.get_gini\n",
    "        else:\n",
    "            _criterion = self.get_entropy\n",
    "        return base_crit - p * _criterion(left_labels) - (1 - p) * _criterion(right_labels)\n",
    "        \n",
    "    def get_gini(self, labels: np.array):       \n",
    "        labels = np.array(labels)\n",
    "        classes, size = np.unique(labels, return_counts=True)\n",
    "        impurity = 1 - ((size / labels.shape) ** 2).sum()\n",
    "        return impurity\n",
    "        \n",
    "    def get_entropy(self, labels: np.array):\n",
    "        labels = np.array(labels)\n",
    "        classes, size = np.unique(labels, return_counts=True)\n",
    "        p = size / labels.shape\n",
    "        impurity = - (p * np.log2(p)).sum()\n",
    "        return impurity\n",
    "    \n",
    "    def fit(self, data, labels):\n",
    "        self.tree = self.build_tree(data, labels)\n",
    "    \n",
    "    def build_tree(self, data, labels, depth=0):\n",
    "        quality, t, index = self.find_best_split(data, labels)\n",
    "\n",
    "        if quality == 0 or (self.max_depth is not None and depth >= self.max_depth)\\\n",
    "        or (self.max_leaves is not None and self.n_leaves >= self.max_leaves - 1):\n",
    "            self.n_leaves += 1\n",
    "            return Leaf(data, labels)\n",
    "\n",
    "        true_data, false_data, true_labels, false_labels = self.make_split(data, labels, index, t)        \n",
    "        true_branch = self.build_tree(true_data, true_labels, depth + 1)\n",
    "        false_branch = self.build_tree(false_data, false_labels, depth + 1)\n",
    "\n",
    "        return Node(index, t, true_branch, false_branch)\n",
    "            \n",
    "    def find_best_split(self, data, labels):\n",
    "        if self.gini:\n",
    "            criterion = self.get_gini(labels)\n",
    "        else:\n",
    "            criterion = self.get_entropy(labels)\n",
    "        best_quality = 0\n",
    "        best_t = None\n",
    "        best_index = None\n",
    "        n_features = data.shape[1]\n",
    "\n",
    "        for index in range(n_features):\n",
    "            t_values = np.unique(data[:, index])\n",
    "            for t in t_values:\n",
    "                true_data, false_data, true_labels, false_labels = self.make_split(data, labels, index, t)\n",
    "                if min(len(true_data), len(false_data)) < self.min_leaves:\n",
    "                    continue\n",
    "\n",
    "                current_quality = self.get_quality(true_labels, false_labels, criterion)\n",
    "\n",
    "                if current_quality > best_quality:\n",
    "                    best_quality, best_t, best_index = current_quality, t, index\n",
    "\n",
    "        return best_quality, best_t, best_index\n",
    "        \n",
    "    def find_leves(self, example, node):\n",
    "        if isinstance(node, Leaf):\n",
    "            return node.prediction            \n",
    "\n",
    "        if example[node.index] <= node.border:\n",
    "            return self.find_leves(example, node.true_branch)\n",
    "        \n",
    "        else:\n",
    "            return self.find_leves(example, node.false_branch)\n",
    "    \n",
    "    def predict(self, X):        \n",
    "        predictions = []\n",
    "        for example in X:\n",
    "            prediction = self.find_leves(example, self.tree)\n",
    "            predictions.append(prediction)\n",
    "        return predictions    "
   ]
  },
  {
   "cell_type": "code",
   "execution_count": 3,
   "metadata": {},
   "outputs": [],
   "source": [
    "def accuracy(actual, predicted):\n",
    "    return (actual == predicted).sum() / actual.shape[0]"
   ]
  },
  {
   "cell_type": "code",
   "execution_count": 4,
   "metadata": {},
   "outputs": [],
   "source": [
    "data, labels = datasets.make_classification(\n",
    "    n_features = 3,\n",
    "    n_informative = 2, \n",
    "    n_classes = 2,\n",
    "    n_redundant=0,\n",
    "    n_clusters_per_class=1,\n",
    "    random_state=5\n",
    ")"
   ]
  },
  {
   "cell_type": "code",
   "execution_count": 5,
   "metadata": {},
   "outputs": [],
   "source": [
    "# Для задачи классификации обучить дерево решений с использованием критериев разбиения Джини и Энтропия. Сравнить качество классификации, сделать выводы.\n",
    "\n",
    "X_train, X_test, y_train, y_test = train_test_split(data, labels, test_size=0.3)\n",
    "tree_gini = MyTree(max_depth=5, max_leaves=6, gini=True, entropy=False)\n",
    "tree_gini.fit(X_train, y_train)\n",
    "tree_entropy = MyTree(max_depth=5, max_leaves=6, gini=False, entropy=True)\n",
    "tree_entropy.fit(X_train, y_train)"
   ]
  },
  {
   "cell_type": "raw",
   "metadata": {},
   "source": [
    "pred_gini_train = np.array(tree_gini.predict(X_train))\n",
    "pred_ent_train = np.array(tree_entropy.predict(X_train))\n",
    "pred_gini_test = np.array(tree_gini.predict(X_test))\n",
    "pred_ent_test = np.array(tree_entropy.predict(X_test))"
   ]
  },
  {
   "cell_type": "code",
   "execution_count": 6,
   "metadata": {},
   "outputs": [],
   "source": [
    "pred_gini_train = np.array(tree_gini.predict(X_train))"
   ]
  },
  {
   "cell_type": "code",
   "execution_count": 7,
   "metadata": {},
   "outputs": [],
   "source": [
    "pred_ent_train = np.array(tree_entropy.predict(X_train))"
   ]
  },
  {
   "cell_type": "code",
   "execution_count": 8,
   "metadata": {},
   "outputs": [],
   "source": [
    "pred_gini_test = np.array(tree_gini.predict(X_test))"
   ]
  },
  {
   "cell_type": "code",
   "execution_count": 9,
   "metadata": {},
   "outputs": [],
   "source": [
    "pred_ent_test = np.array(tree_entropy.predict(X_test))"
   ]
  },
  {
   "cell_type": "code",
   "execution_count": 10,
   "metadata": {},
   "outputs": [
    {
     "data": {
      "text/plain": [
       "array([ True,  True,  True,  True,  True,  True,  True,  True,  True,\n",
       "        True,  True,  True,  True,  True,  True,  True,  True,  True,\n",
       "        True,  True,  True,  True,  True,  True,  True,  True,  True,\n",
       "        True,  True,  True,  True,  True,  True,  True,  True,  True,\n",
       "        True,  True,  True,  True,  True,  True,  True,  True,  True,\n",
       "        True,  True,  True,  True,  True,  True,  True,  True,  True,\n",
       "        True,  True,  True,  True,  True,  True,  True,  True,  True,\n",
       "        True,  True,  True,  True,  True,  True,  True])"
      ]
     },
     "execution_count": 10,
     "metadata": {},
     "output_type": "execute_result"
    }
   ],
   "source": [
    "pred_gini_train == pred_ent_train"
   ]
  },
  {
   "cell_type": "code",
   "execution_count": 11,
   "metadata": {},
   "outputs": [
    {
     "data": {
      "text/plain": [
       "array([ True,  True,  True,  True,  True,  True,  True,  True,  True,\n",
       "        True,  True,  True,  True,  True,  True,  True,  True,  True,\n",
       "        True,  True,  True,  True,  True,  True,  True,  True,  True,\n",
       "        True,  True,  True])"
      ]
     },
     "execution_count": 11,
     "metadata": {},
     "output_type": "execute_result"
    }
   ],
   "source": [
    "pred_gini_test == pred_ent_test"
   ]
  },
  {
   "cell_type": "markdown",
   "metadata": {},
   "source": [
    "Как видно, критерии информативности Джини и энтропии сработали одинаково."
   ]
  },
  {
   "cell_type": "code",
   "execution_count": 12,
   "metadata": {},
   "outputs": [
    {
     "name": "stdout",
     "output_type": "stream",
     "text": [
      "\t\tgini:\t\tentropy:\n",
      "train_accuracy: 0.9571\t\t0.9571\n",
      "test_accuracy:  0.9000\t\t0.9000\n"
     ]
    }
   ],
   "source": [
    "print(f'\\t\\tgini:\\t\\tentropy:\\ntrain_accuracy: {accuracy(y_train, pred_gini_train):.4f}\\t\\t{accuracy(y_train, pred_ent_train):.4f}\\ntest_accuracy:  {accuracy(y_test, pred_gini_test):.4f}\\t\\t{accuracy(y_test, pred_ent_test):.4f}')"
   ]
  },
  {
   "cell_type": "code",
   "execution_count": null,
   "metadata": {},
   "outputs": [],
   "source": []
  }
 ],
 "metadata": {
  "kernelspec": {
   "display_name": "Python 3",
   "language": "python",
   "name": "python3"
  },
  "language_info": {
   "codemirror_mode": {
    "name": "ipython",
    "version": 3
   },
   "file_extension": ".py",
   "mimetype": "text/x-python",
   "name": "python",
   "nbconvert_exporter": "python",
   "pygments_lexer": "ipython3",
   "version": "3.8.5"
  }
 },
 "nbformat": 4,
 "nbformat_minor": 4
}
